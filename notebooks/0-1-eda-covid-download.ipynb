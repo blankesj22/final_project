{
 "cells": [
  {
   "cell_type": "markdown",
   "metadata": {},
   "source": [
    "## 0-1 Download data"
   ]
  },
  {
   "cell_type": "code",
   "execution_count": 1,
   "metadata": {},
   "outputs": [],
   "source": [
    "# Import libraries notbook\n",
    "%run \"0-0-eda-covid-libraries.ipynb\""
   ]
  },
  {
   "cell_type": "markdown",
   "metadata": {},
   "source": [
    "### Specify input and output files"
   ]
  },
  {
   "cell_type": "code",
   "execution_count": 2,
   "metadata": {},
   "outputs": [],
   "source": [
    "covid_url = \"https://raw.githubusercontent.com/CSSEGISandData/COVID-19/master/csse_covid_19_data/csse_covid_19_time_series/time_series_covid19_confirmed_global.csv\"\n",
    "\n",
    "covid_file = path.data_raw_dir(\"time_series_covid19_confirmed_global.csv\")"
   ]
  },
  {
   "cell_type": "markdown",
   "metadata": {},
   "source": [
    "### Run download"
   ]
  },
  {
   "cell_type": "code",
   "execution_count": 3,
   "metadata": {},
   "outputs": [
    {
     "name": "stderr",
     "output_type": "stream",
     "text": [
      "  % Total    % Received % Xferd  Average Speed   Time    Time     Time  Current\n",
      "                                 Dload  Upload   Total   Spent    Left  Speed\n",
      "\n",
      "  0     0    0     0    0     0      0      0 --:--:-- --:--:-- --:--:--     0\n",
      "  0     0    0     0    0     0      0      0 --:--:-- --:--:-- --:--:--     0\n",
      "  3 1490k    3 48300    0     0  45909      0  0:00:33  0:00:01  0:00:32 45912\n",
      " 14 1490k   14  223k    0     0   102k      0  0:00:14  0:00:02  0:00:12  102k\n",
      " 18 1490k   18  271k    0     0  76554      0  0:00:19  0:00:03  0:00:16 76558\n",
      " 19 1490k   19  287k    0     0  72879      0  0:00:20  0:00:04  0:00:16 72877\n",
      " 21 1490k   21  319k    0     0  65154      0  0:00:23  0:00:05  0:00:18 65444\n",
      " 23 1490k   23  351k    0     0  59415      0  0:00:25  0:00:06  0:00:19 62259\n",
      " 27 1490k   27  408k    0     0  59636      0  0:00:25  0:00:07  0:00:18 39183\n",
      " 30 1490k   30  456k    0     0  58156      0  0:00:26  0:00:08  0:00:18 43029\n",
      " 34 1490k   34  520k    0     0  58972      0  0:00:25  0:00:09  0:00:16 47760\n",
      " 41 1490k   41  616k    0     0  63029      0  0:00:24  0:00:10  0:00:14 60906\n",
      " 48 1490k   48  728k    0     0  67654      0  0:00:22  0:00:11  0:00:11 77663\n",
      " 54 1490k   54  808k    0     0  66303      0  0:00:23  0:00:12  0:00:11 74853\n",
      " 55 1490k   55  824k    0     0  64731      0  0:00:23  0:00:13  0:00:10 75306\n",
      " 59 1490k   59  888k    0     0  64898      0  0:00:23  0:00:14  0:00:09 75638\n",
      " 62 1490k   62  936k    0     0  63745      0  0:00:23  0:00:15  0:00:08 65184\n",
      " 65 1490k   65  979k    0     0  62282      0  0:00:24  0:00:16  0:00:08 50625\n",
      " 68 1490k   68 1027k    0     0  61690      0  0:00:24  0:00:17  0:00:07 49082\n",
      " 74 1490k   74 1107k    0     0  62775      0  0:00:24  0:00:18  0:00:06 57704\n",
      " 78 1490k   78 1171k    0     0  63073      0  0:00:24  0:00:19  0:00:05 57958\n",
      " 85 1490k   85 1267k    0     0  64311      0  0:00:23  0:00:20  0:00:03 65968\n",
      " 91 1490k   91 1363k    0     0  66308      0  0:00:23  0:00:21  0:00:02 79389\n",
      " 97 1490k   97 1459k    0     0  67743      0  0:00:22  0:00:22 --:--:-- 88367\n",
      "100 1490k  100 1490k    0     0  67755      0  0:00:22  0:00:22 --:--:-- 87932\n"
     ]
    }
   ],
   "source": [
    "!curl {covid_url} -o {covid_file}"
   ]
  }
 ],
 "metadata": {
  "kernelspec": {
   "display_name": "Python 3.9.12 ('final_project')",
   "language": "python",
   "name": "python3"
  },
  "language_info": {
   "codemirror_mode": {
    "name": "ipython",
    "version": 3
   },
   "file_extension": ".py",
   "mimetype": "text/x-python",
   "name": "python",
   "nbconvert_exporter": "python",
   "pygments_lexer": "ipython3",
   "version": "3.9.12"
  },
  "orig_nbformat": 4,
  "vscode": {
   "interpreter": {
    "hash": "f9f5614654e3f390ab7d8c26c84784bb12bb2d365c6e17d61064cb5292ebc2bf"
   }
  }
 },
 "nbformat": 4,
 "nbformat_minor": 2
}
